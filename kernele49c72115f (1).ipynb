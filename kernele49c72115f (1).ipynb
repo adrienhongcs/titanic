{
 "cells": [
  {
   "cell_type": "code",
   "execution_count": 1,
   "metadata": {
    "_cell_guid": "b1076dfc-b9ad-4769-8c92-a6c4dae69d19",
    "_uuid": "8f2839f25d086af736a60e9eeb907d3b93b6e0e5",
    "execution": {
     "iopub.execute_input": "2020-08-12T18:46:38.909397Z",
     "iopub.status.busy": "2020-08-12T18:46:38.908198Z",
     "iopub.status.idle": "2020-08-12T18:46:38.913356Z",
     "shell.execute_reply": "2020-08-12T18:46:38.914512Z"
    },
    "papermill": {
     "duration": 0.034754,
     "end_time": "2020-08-12T18:46:38.914789",
     "exception": false,
     "start_time": "2020-08-12T18:46:38.880035",
     "status": "completed"
    },
    "tags": []
   },
   "outputs": [
    {
     "name": "stdout",
     "output_type": "stream",
     "text": [
      "/kaggle/input/titanic/gender_submission.csv\n",
      "/kaggle/input/titanic/test.csv\n",
      "/kaggle/input/titanic/train.csv\n"
     ]
    }
   ],
   "source": [
    "# This Python 3 environment comes with many helpful analytics libraries installed\n",
    "# It is defined by the kaggle/python Docker image: https://github.com/kaggle/docker-python\n",
    "# For example, here's several helpful packages to load\n",
    "\n",
    "import numpy as np # linear algebra\n",
    "import pandas as pd # data processing, CSV file I/O (e.g. pd.read_csv)\n",
    "\n",
    "# Input data files are available in the read-only \"../input/\" directory\n",
    "# For example, running this (by clicking run or pressing Shift+Enter) will list all files under the input directory\n",
    "\n",
    "import os\n",
    "for dirname, _, filenames in os.walk('/kaggle/input'):\n",
    "    for filename in filenames:\n",
    "        print(os.path.join(dirname, filename))\n",
    "\n",
    "# You can write up to 5GB to the current directory (/kaggle/working/) that gets preserved as output when you create a version using \"Save & Run All\" \n",
    "# You can also write temporary files to /kaggle/temp/, but they won't be saved outside of the current session"
   ]
  },
  {
   "cell_type": "code",
   "execution_count": 2,
   "metadata": {
    "_cell_guid": "79c7e3d0-c299-4dcb-8224-4455121ee9b0",
    "_uuid": "d629ff2d2480ee46fbb7e2d37f6b5fab8052498a",
    "execution": {
     "iopub.execute_input": "2020-08-12T18:46:38.958698Z",
     "iopub.status.busy": "2020-08-12T18:46:38.957838Z",
     "iopub.status.idle": "2020-08-12T18:46:42.024830Z",
     "shell.execute_reply": "2020-08-12T18:46:42.023917Z"
    },
    "papermill": {
     "duration": 3.092916,
     "end_time": "2020-08-12T18:46:42.025012",
     "exception": false,
     "start_time": "2020-08-12T18:46:38.932096",
     "status": "completed"
    },
    "tags": []
   },
   "outputs": [],
   "source": [
    "# additional imports\n",
    "\n",
    "pd.plotting.register_matplotlib_converters()\n",
    "import matplotlib.pyplot as plt\n",
    "%matplotlib inline\n",
    "import seaborn as sns\n",
    "import missingno\n",
    "\n",
    "from sklearn.preprocessing import OneHotEncoder\n",
    "from sklearn.model_selection import train_test_split\n",
    "from xgboost import XGBRegressor\n",
    "from sklearn.ensemble import RandomForestRegressor\n",
    "from sklearn.tree import DecisionTreeRegressor"
   ]
  },
  {
   "cell_type": "markdown",
   "execution_count": null,
   "metadata": {
    "papermill": {
     "duration": 0.016498,
     "end_time": "2020-08-12T18:46:42.058208",
     "exception": false,
     "start_time": "2020-08-12T18:46:42.041710",
     "status": "completed"
    },
    "tags": []
   },
   "source": [
    "# OVERVIEW OF DATA"
   ]
  },
  {
   "cell_type": "code",
   "execution_count": 3,
   "metadata": {
    "execution": {
     "iopub.execute_input": "2020-08-12T18:46:42.098356Z",
     "iopub.status.busy": "2020-08-12T18:46:42.097338Z",
     "iopub.status.idle": "2020-08-12T18:46:42.125067Z",
     "shell.execute_reply": "2020-08-12T18:46:42.124104Z"
    },
    "papermill": {
     "duration": 0.050644,
     "end_time": "2020-08-12T18:46:42.125225",
     "exception": false,
     "start_time": "2020-08-12T18:46:42.074581",
     "status": "completed"
    },
    "tags": []
   },
   "outputs": [],
   "source": [
    "train = pd.read_csv('/kaggle/input/titanic/train.csv')\n",
    "test = pd.read_csv('/kaggle/input/titanic/test.csv')"
   ]
  },
  {
   "cell_type": "code",
   "execution_count": 4,
   "metadata": {
    "execution": {
     "iopub.execute_input": "2020-08-12T18:46:42.178208Z",
     "iopub.status.busy": "2020-08-12T18:46:42.177337Z",
     "iopub.status.idle": "2020-08-12T18:46:42.194179Z",
     "shell.execute_reply": "2020-08-12T18:46:42.193334Z"
    },
    "papermill": {
     "duration": 0.052687,
     "end_time": "2020-08-12T18:46:42.194320",
     "exception": false,
     "start_time": "2020-08-12T18:46:42.141633",
     "status": "completed"
    },
    "tags": []
   },
   "outputs": [
    {
     "data": {
      "text/html": [
       "<div>\n",
       "<style scoped>\n",
       "    .dataframe tbody tr th:only-of-type {\n",
       "        vertical-align: middle;\n",
       "    }\n",
       "\n",
       "    .dataframe tbody tr th {\n",
       "        vertical-align: top;\n",
       "    }\n",
       "\n",
       "    .dataframe thead th {\n",
       "        text-align: right;\n",
       "    }\n",
       "</style>\n",
       "<table border=\"1\" class=\"dataframe\">\n",
       "  <thead>\n",
       "    <tr style=\"text-align: right;\">\n",
       "      <th></th>\n",
       "      <th>PassengerId</th>\n",
       "      <th>Survived</th>\n",
       "      <th>Pclass</th>\n",
       "      <th>Name</th>\n",
       "      <th>Sex</th>\n",
       "      <th>Age</th>\n",
       "      <th>SibSp</th>\n",
       "      <th>Parch</th>\n",
       "      <th>Ticket</th>\n",
       "      <th>Fare</th>\n",
       "      <th>Cabin</th>\n",
       "      <th>Embarked</th>\n",
       "    </tr>\n",
       "  </thead>\n",
       "  <tbody>\n",
       "    <tr>\n",
       "      <th>0</th>\n",
       "      <td>1</td>\n",
       "      <td>0</td>\n",
       "      <td>3</td>\n",
       "      <td>Braund, Mr. Owen Harris</td>\n",
       "      <td>male</td>\n",
       "      <td>22.0</td>\n",
       "      <td>1</td>\n",
       "      <td>0</td>\n",
       "      <td>A/5 21171</td>\n",
       "      <td>7.2500</td>\n",
       "      <td>NaN</td>\n",
       "      <td>S</td>\n",
       "    </tr>\n",
       "    <tr>\n",
       "      <th>1</th>\n",
       "      <td>2</td>\n",
       "      <td>1</td>\n",
       "      <td>1</td>\n",
       "      <td>Cumings, Mrs. John Bradley (Florence Briggs Th...</td>\n",
       "      <td>female</td>\n",
       "      <td>38.0</td>\n",
       "      <td>1</td>\n",
       "      <td>0</td>\n",
       "      <td>PC 17599</td>\n",
       "      <td>71.2833</td>\n",
       "      <td>C85</td>\n",
       "      <td>C</td>\n",
       "    </tr>\n",
       "    <tr>\n",
       "      <th>2</th>\n",
       "      <td>3</td>\n",
       "      <td>1</td>\n",
       "      <td>3</td>\n",
       "      <td>Heikkinen, Miss. Laina</td>\n",
       "      <td>female</td>\n",
       "      <td>26.0</td>\n",
       "      <td>0</td>\n",
       "      <td>0</td>\n",
       "      <td>STON/O2. 3101282</td>\n",
       "      <td>7.9250</td>\n",
       "      <td>NaN</td>\n",
       "      <td>S</td>\n",
       "    </tr>\n",
       "    <tr>\n",
       "      <th>3</th>\n",
       "      <td>4</td>\n",
       "      <td>1</td>\n",
       "      <td>1</td>\n",
       "      <td>Futrelle, Mrs. Jacques Heath (Lily May Peel)</td>\n",
       "      <td>female</td>\n",
       "      <td>35.0</td>\n",
       "      <td>1</td>\n",
       "      <td>0</td>\n",
       "      <td>113803</td>\n",
       "      <td>53.1000</td>\n",
       "      <td>C123</td>\n",
       "      <td>S</td>\n",
       "    </tr>\n",
       "    <tr>\n",
       "      <th>4</th>\n",
       "      <td>5</td>\n",
       "      <td>0</td>\n",
       "      <td>3</td>\n",
       "      <td>Allen, Mr. William Henry</td>\n",
       "      <td>male</td>\n",
       "      <td>35.0</td>\n",
       "      <td>0</td>\n",
       "      <td>0</td>\n",
       "      <td>373450</td>\n",
       "      <td>8.0500</td>\n",
       "      <td>NaN</td>\n",
       "      <td>S</td>\n",
       "    </tr>\n",
       "  </tbody>\n",
       "</table>\n",
       "</div>"
      ],
      "text/plain": [
       "   PassengerId  Survived  Pclass  \\\n",
       "0            1         0       3   \n",
       "1            2         1       1   \n",
       "2            3         1       3   \n",
       "3            4         1       1   \n",
       "4            5         0       3   \n",
       "\n",
       "                                                Name     Sex   Age  SibSp  \\\n",
       "0                            Braund, Mr. Owen Harris    male  22.0      1   \n",
       "1  Cumings, Mrs. John Bradley (Florence Briggs Th...  female  38.0      1   \n",
       "2                             Heikkinen, Miss. Laina  female  26.0      0   \n",
       "3       Futrelle, Mrs. Jacques Heath (Lily May Peel)  female  35.0      1   \n",
       "4                           Allen, Mr. William Henry    male  35.0      0   \n",
       "\n",
       "   Parch            Ticket     Fare Cabin Embarked  \n",
       "0      0         A/5 21171   7.2500   NaN        S  \n",
       "1      0          PC 17599  71.2833   C85        C  \n",
       "2      0  STON/O2. 3101282   7.9250   NaN        S  \n",
       "3      0            113803  53.1000  C123        S  \n",
       "4      0            373450   8.0500   NaN        S  "
      ]
     },
     "execution_count": 4,
     "metadata": {},
     "output_type": "execute_result"
    }
   ],
   "source": [
    "train.head()"
   ]
  },
  {
   "cell_type": "code",
   "execution_count": 5,
   "metadata": {
    "execution": {
     "iopub.execute_input": "2020-08-12T18:46:42.236566Z",
     "iopub.status.busy": "2020-08-12T18:46:42.235553Z",
     "iopub.status.idle": "2020-08-12T18:46:42.886454Z",
     "shell.execute_reply": "2020-08-12T18:46:42.885590Z"
    },
    "papermill": {
     "duration": 0.675531,
     "end_time": "2020-08-12T18:46:42.886608",
     "exception": false,
     "start_time": "2020-08-12T18:46:42.211077",
     "status": "completed"
    },
    "tags": []
   },
   "outputs": [
    {
     "data": {
      "text/plain": [
       "<matplotlib.axes._subplots.AxesSubplot at 0x7fa36f647690>"
      ]
     },
     "execution_count": 5,
     "metadata": {},
     "output_type": "execute_result"
    },
    {
     "data": {
      "image/png": "[encoded data removed]",
      "text/plain": [
       "<Figure size 1800x720 with 2 Axes>"
      ]
     },
     "metadata": {
      "needs_background": "light"
     },
     "output_type": "display_data"
    }
   ],
   "source": [
    "# Only 'Age', 'Cabin', 'Embarked' have missing values out of all the potential features\n",
    "missingno.matrix(train, figsize = (25,10))"
   ]
  },
  {
   "cell_type": "code",
   "execution_count": 6,
   "metadata": {
    "execution": {
     "iopub.execute_input": "2020-08-12T18:46:42.941810Z",
     "iopub.status.busy": "2020-08-12T18:46:42.937900Z",
     "iopub.status.idle": "2020-08-12T18:46:42.945970Z",
     "shell.execute_reply": "2020-08-12T18:46:42.945189Z"
    },
    "papermill": {
     "duration": 0.041429,
     "end_time": "2020-08-12T18:46:42.946124",
     "exception": false,
     "start_time": "2020-08-12T18:46:42.904695",
     "status": "completed"
    },
    "tags": []
   },
   "outputs": [],
   "source": [
    "# we see that 'Embarked' is only missing two values so we delete those two rows from the data set\n",
    "train.dropna(subset=['Embarked'],inplace=True)"
   ]
  },
  {
   "cell_type": "code",
   "execution_count": 7,
   "metadata": {
    "execution": {
     "iopub.execute_input": "2020-08-12T18:46:42.990134Z",
     "iopub.status.busy": "2020-08-12T18:46:42.989263Z",
     "iopub.status.idle": "2020-08-12T18:46:43.410506Z",
     "shell.execute_reply": "2020-08-12T18:46:43.409675Z"
    },
    "papermill": {
     "duration": 0.446552,
     "end_time": "2020-08-12T18:46:43.410648",
     "exception": false,
     "start_time": "2020-08-12T18:46:42.964096",
     "status": "completed"
    },
    "tags": []
   },
   "outputs": [
    {
     "data": {
      "text/plain": [
       "<matplotlib.axes._subplots.AxesSubplot at 0x7fa36f55da50>"
      ]
     },
     "execution_count": 7,
     "metadata": {},
     "output_type": "execute_result"
    },
    {
     "data": {
      "image/png": "[encoded data removed]",
      "text/plain": [
       "<Figure size 1800x720 with 2 Axes>"
      ]
     },
     "metadata": {
      "needs_background": "light"
     },
     "output_type": "display_data"
    }
   ],
   "source": [
    "missingno.matrix(train, figsize = (25,10))"
   ]
  },
  {
   "cell_type": "code",
   "execution_count": 8,
   "metadata": {
    "execution": {
     "iopub.execute_input": "2020-08-12T18:46:43.455206Z",
     "iopub.status.busy": "2020-08-12T18:46:43.454330Z",
     "iopub.status.idle": "2020-08-12T18:46:43.852054Z",
     "shell.execute_reply": "2020-08-12T18:46:43.851388Z"
    },
    "papermill": {
     "duration": 0.422796,
     "end_time": "2020-08-12T18:46:43.852190",
     "exception": false,
     "start_time": "2020-08-12T18:46:43.429394",
     "status": "completed"
    },
    "tags": []
   },
   "outputs": [
    {
     "data": {
      "text/plain": [
       "<matplotlib.axes._subplots.AxesSubplot at 0x7fa36f434350>"
      ]
     },
     "execution_count": 8,
     "metadata": {},
     "output_type": "execute_result"
    },
    {
     "data": {
      "image/png": "[encoded data removed]",
      "text/plain": [
       "<Figure size 1800x720 with 2 Axes>"
      ]
     },
     "metadata": {
      "needs_background": "light"
     },
     "output_type": "display_data"
    }
   ],
   "source": [
    "# the test data is also missing values\n",
    "missingno.matrix(test, figsize = (25,10))"
   ]
  },
  {
   "cell_type": "markdown",
   "execution_count": null,
   "metadata": {
    "papermill": {
     "duration": 0.019229,
     "end_time": "2020-08-12T18:46:43.890755",
     "exception": false,
     "start_time": "2020-08-12T18:46:43.871526",
     "status": "completed"
    },
    "tags": []
   },
   "source": [
    "# ANALYSIS OF POTENTIAL FEATURE"
   ]
  },
  {
   "cell_type": "code",
   "execution_count": 9,
   "metadata": {
    "execution": {
     "iopub.execute_input": "2020-08-12T18:46:43.945408Z",
     "iopub.status.busy": "2020-08-12T18:46:43.939428Z",
     "iopub.status.idle": "2020-08-12T18:46:43.956333Z",
     "shell.execute_reply": "2020-08-12T18:46:43.955525Z"
    },
    "papermill": {
     "duration": 0.04565,
     "end_time": "2020-08-12T18:46:43.956506",
     "exception": false,
     "start_time": "2020-08-12T18:46:43.910856",
     "status": "completed"
    },
    "tags": []
   },
   "outputs": [],
   "source": [
    "x_train, x_valid, y_train, y_valid = train_test_split(train.drop(['Survived'],axis=1), train['Survived'], train_size=0.8, test_size=0.2,\n",
    "                                                                random_state=0)\n",
    "\n",
    "X_train = pd.DataFrame()\n",
    "categorical_data_train = pd.DataFrame()\n",
    "X_valid = pd.DataFrame()\n",
    "categorical_data_valid = pd.DataFrame()\n",
    "\n",
    "X_test = pd.DataFrame()\n",
    "categorical_data_test = pd.DataFrame()"
   ]
  },
  {
   "cell_type": "markdown",
   "execution_count": null,
   "metadata": {
    "papermill": {
     "duration": 0.019149,
     "end_time": "2020-08-12T18:46:43.995163",
     "exception": false,
     "start_time": "2020-08-12T18:46:43.976014",
     "status": "completed"
    },
    "tags": []
   },
   "source": [
    "### PassengerId"
   ]
  },
  {
   "cell_type": "code",
   "execution_count": 10,
   "metadata": {
    "execution": {
     "iopub.execute_input": "2020-08-12T18:46:44.045132Z",
     "iopub.status.busy": "2020-08-12T18:46:44.044004Z",
     "iopub.status.idle": "2020-08-12T18:46:44.049237Z",
     "shell.execute_reply": "2020-08-12T18:46:44.048550Z"
    },
    "papermill": {
     "duration": 0.033994,
     "end_time": "2020-08-12T18:46:44.049377",
     "exception": false,
     "start_time": "2020-08-12T18:46:44.015383",
     "status": "completed"
    },
    "tags": []
   },
   "outputs": [
    {
     "data": {
      "text/plain": [
       "837    838\n",
       "193    194\n",
       "630    631\n",
       "560    561\n",
       "685    686\n",
       "Name: PassengerId, dtype: int64"
      ]
     },
     "execution_count": 10,
     "metadata": {},
     "output_type": "execute_result"
    }
   ],
   "source": [
    "# PassengerId  = index + 1\n",
    "# it doesn't add any useful information the model can use\n",
    "# therefore we won't use it as a feature\n",
    "x_train['PassengerId'].head()\n",
    "x_train['PassengerId'].tail()"
   ]
  },
  {
   "cell_type": "markdown",
   "execution_count": null,
   "metadata": {
    "papermill": {
     "duration": 0.019227,
     "end_time": "2020-08-12T18:46:44.088145",
     "exception": false,
     "start_time": "2020-08-12T18:46:44.068918",
     "status": "completed"
    },
    "tags": []
   },
   "source": [
    "## Pclass"
   ]
  },
  {
   "cell_type": "code",
   "execution_count": 11,
   "metadata": {
    "execution": {
     "iopub.execute_input": "2020-08-12T18:46:44.137196Z",
     "iopub.status.busy": "2020-08-12T18:46:44.136178Z",
     "iopub.status.idle": "2020-08-12T18:46:44.141709Z",
     "shell.execute_reply": "2020-08-12T18:46:44.141041Z"
    },
    "papermill": {
     "duration": 0.034266,
     "end_time": "2020-08-12T18:46:44.141848",
     "exception": false,
     "start_time": "2020-08-12T18:46:44.107582",
     "status": "completed"
    },
    "tags": []
   },
   "outputs": [
    {
     "data": {
      "text/plain": [
       "3    395\n",
       "1    167\n",
       "2    149\n",
       "Name: Pclass, dtype: int64"
      ]
     },
     "execution_count": 11,
     "metadata": {},
     "output_type": "execute_result"
    }
   ],
   "source": [
    "x_train['Pclass'].value_counts()"
   ]
  },
  {
   "cell_type": "code",
   "execution_count": 12,
   "metadata": {
    "execution": {
     "iopub.execute_input": "2020-08-12T18:46:44.203343Z",
     "iopub.status.busy": "2020-08-12T18:46:44.202214Z",
     "iopub.status.idle": "2020-08-12T18:46:44.406718Z",
     "shell.execute_reply": "2020-08-12T18:46:44.405852Z"
    },
    "papermill": {
     "duration": 0.245165,
     "end_time": "2020-08-12T18:46:44.406886",
     "exception": false,
     "start_time": "2020-08-12T18:46:44.161721",
     "status": "completed"
    },
    "tags": []
   },
   "outputs": [
    {
     "data": {
      "text/plain": [
       "<matplotlib.axes._subplots.AxesSubplot at 0x7fa36f3c1990>"
      ]
     },
     "execution_count": 12,
     "metadata": {},
     "output_type": "execute_result"
    },
    {
     "data": {
      "image/png": "[encoded data removed]",
      "text/plain": [
       "<Figure size 1080x360 with 1 Axes>"
      ]
     },
     "metadata": {
      "needs_background": "light"
     },
     "output_type": "display_data"
    }
   ],
   "source": [
    "plt.figure(figsize = (15,5))\n",
    "sns.distplot(a=x_train['Pclass'])"
   ]
  },
  {
   "cell_type": "code",
   "execution_count": 13,
   "metadata": {
    "execution": {
     "iopub.execute_input": "2020-08-12T18:46:44.460841Z",
     "iopub.status.busy": "2020-08-12T18:46:44.459690Z",
     "iopub.status.idle": "2020-08-12T18:46:44.463338Z",
     "shell.execute_reply": "2020-08-12T18:46:44.462520Z"
    },
    "papermill": {
     "duration": 0.036431,
     "end_time": "2020-08-12T18:46:44.463483",
     "exception": false,
     "start_time": "2020-08-12T18:46:44.427052",
     "status": "completed"
    },
    "tags": []
   },
   "outputs": [],
   "source": [
    "# The values are categorical ordinal values (even though they're numbers)\n",
    "# We will use Pclass as a feature\n",
    "# Since the values are already numbers we can directly add it to x\n",
    "X_train['Pclass']=x_train['Pclass']\n",
    "X_valid['Pclass']=x_valid['Pclass']\n",
    "X_test['Pclass']=test[\"Pclass\"]"
   ]
  },
  {
   "cell_type": "markdown",
   "execution_count": null,
   "metadata": {
    "papermill": {
     "duration": 0.019721,
     "end_time": "2020-08-12T18:46:44.503375",
     "exception": false,
     "start_time": "2020-08-12T18:46:44.483654",
     "status": "completed"
    },
    "tags": []
   },
   "source": [
    "## Name"
   ]
  },
  {
   "cell_type": "code",
   "execution_count": 14,
   "metadata": {
    "execution": {
     "iopub.execute_input": "2020-08-12T18:46:44.555487Z",
     "iopub.status.busy": "2020-08-12T18:46:44.554401Z",
     "iopub.status.idle": "2020-08-12T18:46:44.562562Z",
     "shell.execute_reply": "2020-08-12T18:46:44.561590Z"
    },
    "papermill": {
     "duration": 0.038586,
     "end_time": "2020-08-12T18:46:44.562718",
     "exception": false,
     "start_time": "2020-08-12T18:46:44.524132",
     "status": "completed"
    },
    "tags": []
   },
   "outputs": [
    {
     "data": {
      "text/plain": [
       "364                          O'Brien, Mr. Thomas\n",
       "256               Thorne, Mrs. Gertrude Maybelle\n",
       "477                    Braund, Mr. Lewis Richard\n",
       "272    Mellinger, Mrs. (Elizabeth Anne Maidment)\n",
       "554                           Ohman, Miss. Velin\n",
       "768                          Moran, Mr. Daniel J\n",
       "232                    Sjostedt, Mr. Ernst Adolf\n",
       "536            Butt, Major. Archibald Willingham\n",
       "163                              Calic, Mr. Jovo\n",
       "659                   Newell, Mr. Arthur Webster\n",
       "Name: Name, dtype: object"
      ]
     },
     "execution_count": 14,
     "metadata": {},
     "output_type": "execute_result"
    }
   ],
   "source": [
    "x_train['Name'].nunique() # 712 out of 712 unique values\n",
    "x_train['Name'].head(10)"
   ]
  },
  {
   "cell_type": "code",
   "execution_count": 15,
   "metadata": {
    "execution": {
     "iopub.execute_input": "2020-08-12T18:46:44.616473Z",
     "iopub.status.busy": "2020-08-12T18:46:44.615607Z",
     "iopub.status.idle": "2020-08-12T18:46:44.620224Z",
     "shell.execute_reply": "2020-08-12T18:46:44.619096Z"
    },
    "papermill": {
     "duration": 0.036611,
     "end_time": "2020-08-12T18:46:44.620423",
     "exception": false,
     "start_time": "2020-08-12T18:46:44.583812",
     "status": "completed"
    },
    "tags": []
   },
   "outputs": [],
   "source": [
    "# Every name is different so the raw data of 'Name' won't add any useful information\n",
    "# However, by examining the data we see that we can use the title of each to engineer a new feature\n",
    "\n",
    "# takes as input a data frame of names and returns a data frame of titles\n",
    "def name_to_title(names):\n",
    "    titles = names.copy()\n",
    "    indexes = titles.index\n",
    "    for i in indexes:\n",
    "        name = titles[i]\n",
    "        start = 0\n",
    "        end = 1\n",
    "        for j in range(len(name)):\n",
    "            # the title is between ',' and '.' in each name\n",
    "            if name[j] == ',':\n",
    "                start = j+2\n",
    "            if name[j] == '.':\n",
    "                end = j\n",
    "                break\n",
    "        title = name[start:end]\n",
    "        titles[i] = title\n",
    "    return titles"
   ]
  },
  {
   "cell_type": "code",
   "execution_count": 16,
   "metadata": {
    "execution": {
     "iopub.execute_input": "2020-08-12T18:46:44.687798Z",
     "iopub.status.busy": "2020-08-12T18:46:44.682613Z",
     "iopub.status.idle": "2020-08-12T18:46:44.735830Z",
     "shell.execute_reply": "2020-08-12T18:46:44.736469Z"
    },
    "papermill": {
     "duration": 0.095349,
     "end_time": "2020-08-12T18:46:44.736667",
     "exception": false,
     "start_time": "2020-08-12T18:46:44.641318",
     "status": "completed"
    },
    "tags": []
   },
   "outputs": [
    {
     "name": "stdout",
     "output_type": "stream",
     "text": [
      "Mr              417\n",
      "Miss            147\n",
      "Mrs              95\n",
      "Master           32\n",
      "Dr                5\n",
      "Rev               4\n",
      "Major             2\n",
      "Mlle              2\n",
      "Sir               1\n",
      "the Countess      1\n",
      "Ms                1\n",
      "Lady              1\n",
      "Capt              1\n",
      "Col               1\n",
      "Mme               1\n",
      "Name: Title, dtype: int64\n"
     ]
    }
   ],
   "source": [
    "titles = name_to_title(x_train['Name'])\n",
    "categorical_data_train['Title'] = titles\n",
    "print(categorical_data_train['Title'].value_counts())\n",
    "\n",
    "titles_valid = name_to_title(x_valid['Name'])\n",
    "categorical_data_valid['Title'] = titles_valid\n",
    "\n",
    "titles_test = name_to_title(test['Name'])\n",
    "categorical_data_test['Title'] = titles_test"
   ]
  },
  {
   "cell_type": "markdown",
   "execution_count": null,
   "metadata": {
    "papermill": {
     "duration": 0.020331,
     "end_time": "2020-08-12T18:46:44.777794",
     "exception": false,
     "start_time": "2020-08-12T18:46:44.757463",
     "status": "completed"
    },
    "tags": []
   },
   "source": [
    "## Sex"
   ]
  },
  {
   "cell_type": "code",
   "execution_count": 17,
   "metadata": {
    "execution": {
     "iopub.execute_input": "2020-08-12T18:46:44.830352Z",
     "iopub.status.busy": "2020-08-12T18:46:44.829125Z",
     "iopub.status.idle": "2020-08-12T18:46:44.834668Z",
     "shell.execute_reply": "2020-08-12T18:46:44.834001Z"
    },
    "papermill": {
     "duration": 0.036307,
     "end_time": "2020-08-12T18:46:44.834808",
     "exception": false,
     "start_time": "2020-08-12T18:46:44.798501",
     "status": "completed"
    },
    "tags": []
   },
   "outputs": [
    {
     "data": {
      "text/plain": [
       "male      462\n",
       "female    249\n",
       "Name: Sex, dtype: int64"
      ]
     },
     "execution_count": 17,
     "metadata": {},
     "output_type": "execute_result"
    }
   ],
   "source": [
    "x_train['Sex'].value_counts()"
   ]
  },
  {
   "cell_type": "code",
   "execution_count": 18,
   "metadata": {
    "execution": {
     "iopub.execute_input": "2020-08-12T18:46:44.886936Z",
     "iopub.status.busy": "2020-08-12T18:46:44.885795Z",
     "iopub.status.idle": "2020-08-12T18:46:44.889314Z",
     "shell.execute_reply": "2020-08-12T18:46:44.889963Z"
    },
    "papermill": {
     "duration": 0.034523,
     "end_time": "2020-08-12T18:46:44.890161",
     "exception": false,
     "start_time": "2020-08-12T18:46:44.855638",
     "status": "completed"
    },
    "tags": []
   },
   "outputs": [],
   "source": [
    "categorical_data_train['Sex'] = x_train['Sex']\n",
    "categorical_data_valid['Sex'] = x_valid['Sex']\n",
    "categorical_data_test['Sex'] = test['Sex']"
   ]
  },
  {
   "cell_type": "markdown",
   "execution_count": null,
   "metadata": {
    "papermill": {
     "duration": 0.020615,
     "end_time": "2020-08-12T18:46:44.931827",
     "exception": false,
     "start_time": "2020-08-12T18:46:44.911212",
     "status": "completed"
    },
    "tags": []
   },
   "source": [
    "## Age"
   ]
  },
  {
   "cell_type": "code",
   "execution_count": 19,
   "metadata": {
    "execution": {
     "iopub.execute_input": "2020-08-12T18:46:44.983063Z",
     "iopub.status.busy": "2020-08-12T18:46:44.981826Z",
     "iopub.status.idle": "2020-08-12T18:46:44.987295Z",
     "shell.execute_reply": "2020-08-12T18:46:44.986539Z"
    },
    "papermill": {
     "duration": 0.034512,
     "end_time": "2020-08-12T18:46:44.987429",
     "exception": false,
     "start_time": "2020-08-12T18:46:44.952917",
     "status": "completed"
    },
    "tags": []
   },
   "outputs": [
    {
     "data": {
      "text/plain": [
       "144"
      ]
     },
     "execution_count": 19,
     "metadata": {},
     "output_type": "execute_result"
    }
   ],
   "source": [
    "x_train['Age'].isnull().sum()"
   ]
  },
  {
   "cell_type": "code",
   "execution_count": 20,
   "metadata": {
    "execution": {
     "iopub.execute_input": "2020-08-12T18:46:45.045304Z",
     "iopub.status.busy": "2020-08-12T18:46:45.040404Z",
     "iopub.status.idle": "2020-08-12T18:46:45.050071Z",
     "shell.execute_reply": "2020-08-12T18:46:45.049196Z"
    },
    "papermill": {
     "duration": 0.041059,
     "end_time": "2020-08-12T18:46:45.050221",
     "exception": false,
     "start_time": "2020-08-12T18:46:45.009162",
     "status": "completed"
    },
    "tags": []
   },
   "outputs": [],
   "source": [
    "# there is almost a fifth of the values missing\n",
    "# we will fill those values with the mean \n",
    "X_train['Age'] = x_train['Age']\n",
    "X_train['Age'].fillna(X_train['Age'].mean(), inplace = True)\n",
    "\n",
    "X_valid['Age'] = x_valid['Age']\n",
    "X_valid['Age'].fillna(X_valid['Age'].mean(), inplace = True)\n",
    "X_test['Age'] = test['Age']\n",
    "X_test['Age'].fillna(X_test['Age'].mean(), inplace = True)\n"
   ]
  },
  {
   "cell_type": "markdown",
   "execution_count": null,
   "metadata": {
    "papermill": {
     "duration": 0.020662,
     "end_time": "2020-08-12T18:46:45.092040",
     "exception": false,
     "start_time": "2020-08-12T18:46:45.071378",
     "status": "completed"
    },
    "tags": []
   },
   "source": [
    "## SibSp"
   ]
  },
  {
   "cell_type": "code",
   "execution_count": 21,
   "metadata": {
    "execution": {
     "iopub.execute_input": "2020-08-12T18:46:45.145380Z",
     "iopub.status.busy": "2020-08-12T18:46:45.144298Z",
     "iopub.status.idle": "2020-08-12T18:46:45.150381Z",
     "shell.execute_reply": "2020-08-12T18:46:45.149641Z"
    },
    "papermill": {
     "duration": 0.037287,
     "end_time": "2020-08-12T18:46:45.150521",
     "exception": false,
     "start_time": "2020-08-12T18:46:45.113234",
     "status": "completed"
    },
    "tags": []
   },
   "outputs": [
    {
     "data": {
      "text/plain": [
       "0    482\n",
       "1    169\n",
       "2     24\n",
       "4     17\n",
       "3     10\n",
       "8      5\n",
       "5      4\n",
       "Name: SibSp, dtype: int64"
      ]
     },
     "execution_count": 21,
     "metadata": {},
     "output_type": "execute_result"
    }
   ],
   "source": [
    "# SibSp describes the number of siblings and spouses aboard\n",
    "x_train['SibSp'].value_counts()"
   ]
  },
  {
   "cell_type": "code",
   "execution_count": 22,
   "metadata": {
    "execution": {
     "iopub.execute_input": "2020-08-12T18:46:45.205901Z",
     "iopub.status.busy": "2020-08-12T18:46:45.204607Z",
     "iopub.status.idle": "2020-08-12T18:46:45.208642Z",
     "shell.execute_reply": "2020-08-12T18:46:45.207831Z"
    },
    "papermill": {
     "duration": 0.036054,
     "end_time": "2020-08-12T18:46:45.208796",
     "exception": false,
     "start_time": "2020-08-12T18:46:45.172742",
     "status": "completed"
    },
    "tags": []
   },
   "outputs": [],
   "source": [
    "# Since the values are numerical values we can add them directly to x\n",
    "X_train['SibSp'] = x_train['SibSp']\n",
    "X_valid['SibSp'] = x_valid[\"SibSp\"]\n",
    "X_test['SibSp'] = test['SibSp']"
   ]
  },
  {
   "cell_type": "markdown",
   "execution_count": null,
   "metadata": {
    "papermill": {
     "duration": 0.02097,
     "end_time": "2020-08-12T18:46:45.251200",
     "exception": false,
     "start_time": "2020-08-12T18:46:45.230230",
     "status": "completed"
    },
    "tags": []
   },
   "source": [
    "## Parch"
   ]
  },
  {
   "cell_type": "code",
   "execution_count": 23,
   "metadata": {
    "execution": {
     "iopub.execute_input": "2020-08-12T18:46:45.303682Z",
     "iopub.status.busy": "2020-08-12T18:46:45.302597Z",
     "iopub.status.idle": "2020-08-12T18:46:45.308222Z",
     "shell.execute_reply": "2020-08-12T18:46:45.307541Z"
    },
    "papermill": {
     "duration": 0.035833,
     "end_time": "2020-08-12T18:46:45.308361",
     "exception": false,
     "start_time": "2020-08-12T18:46:45.272528",
     "status": "completed"
    },
    "tags": []
   },
   "outputs": [
    {
     "data": {
      "text/plain": [
       "0    543\n",
       "1     95\n",
       "2     60\n",
       "5      5\n",
       "3      4\n",
       "4      3\n",
       "6      1\n",
       "Name: Parch, dtype: int64"
      ]
     },
     "execution_count": 23,
     "metadata": {},
     "output_type": "execute_result"
    }
   ],
   "source": [
    "# Parch describes the number of parents and children aboard\n",
    "x_train['Parch'].value_counts()"
   ]
  },
  {
   "cell_type": "code",
   "execution_count": 24,
   "metadata": {
    "execution": {
     "iopub.execute_input": "2020-08-12T18:46:45.359786Z",
     "iopub.status.busy": "2020-08-12T18:46:45.358509Z",
     "iopub.status.idle": "2020-08-12T18:46:45.365048Z",
     "shell.execute_reply": "2020-08-12T18:46:45.365643Z"
    },
    "papermill": {
     "duration": 0.035999,
     "end_time": "2020-08-12T18:46:45.365836",
     "exception": false,
     "start_time": "2020-08-12T18:46:45.329837",
     "status": "completed"
    },
    "tags": []
   },
   "outputs": [],
   "source": [
    "# Since the values are numerical values we can add them directly to x\n",
    "X_train['Parch']=x_train['Parch']\n",
    "X_valid['Parch']=x_valid['Parch']\n",
    "X_test['Parch']=test['Parch']"
   ]
  },
  {
   "cell_type": "markdown",
   "execution_count": null,
   "metadata": {
    "papermill": {
     "duration": 0.021347,
     "end_time": "2020-08-12T18:46:45.409149",
     "exception": false,
     "start_time": "2020-08-12T18:46:45.387802",
     "status": "completed"
    },
    "tags": []
   },
   "source": [
    "## Ticket"
   ]
  },
  {
   "cell_type": "code",
   "execution_count": 25,
   "metadata": {
    "execution": {
     "iopub.execute_input": "2020-08-12T18:46:45.463936Z",
     "iopub.status.busy": "2020-08-12T18:46:45.462979Z",
     "iopub.status.idle": "2020-08-12T18:46:45.469106Z",
     "shell.execute_reply": "2020-08-12T18:46:45.468412Z"
    },
    "papermill": {
     "duration": 0.038446,
     "end_time": "2020-08-12T18:46:45.469248",
     "exception": false,
     "start_time": "2020-08-12T18:46:45.430802",
     "status": "completed"
    },
    "tags": []
   },
   "outputs": [
    {
     "data": {
      "text/plain": [
       "347082      7\n",
       "3101295     6\n",
       "382652      5\n",
       "CA. 2343    5\n",
       "CA 2144     5\n",
       "           ..\n",
       "349205      1\n",
       "349210      1\n",
       "374887      1\n",
       "113783      1\n",
       "27267       1\n",
       "Name: Ticket, Length: 572, dtype: int64"
      ]
     },
     "execution_count": 25,
     "metadata": {},
     "output_type": "execute_result"
    }
   ],
   "source": [
    "x_train['Ticket'].value_counts()"
   ]
  },
  {
   "cell_type": "code",
   "execution_count": 26,
   "metadata": {
    "execution": {
     "iopub.execute_input": "2020-08-12T18:46:45.518493Z",
     "iopub.status.busy": "2020-08-12T18:46:45.517618Z",
     "iopub.status.idle": "2020-08-12T18:46:45.521233Z",
     "shell.execute_reply": "2020-08-12T18:46:45.520525Z"
    },
    "papermill": {
     "duration": 0.030309,
     "end_time": "2020-08-12T18:46:45.521376",
     "exception": false,
     "start_time": "2020-08-12T18:46:45.491067",
     "status": "completed"
    },
    "tags": []
   },
   "outputs": [],
   "source": [
    "# there are 572 unique values out of 712 \n",
    "# Some tickets do have similarities (like cities) but their meanings are still unclear \n",
    "# so we won\"t use 'Ticket' as a feature"
   ]
  },
  {
   "cell_type": "markdown",
   "execution_count": null,
   "metadata": {
    "papermill": {
     "duration": 0.021539,
     "end_time": "2020-08-12T18:46:45.565042",
     "exception": false,
     "start_time": "2020-08-12T18:46:45.543503",
     "status": "completed"
    },
    "tags": []
   },
   "source": [
    "## Fare"
   ]
  },
  {
   "cell_type": "code",
   "execution_count": 27,
   "metadata": {
    "execution": {
     "iopub.execute_input": "2020-08-12T18:46:45.620941Z",
     "iopub.status.busy": "2020-08-12T18:46:45.619519Z",
     "iopub.status.idle": "2020-08-12T18:46:45.624576Z",
     "shell.execute_reply": "2020-08-12T18:46:45.625214Z"
    },
    "papermill": {
     "duration": 0.038152,
     "end_time": "2020-08-12T18:46:45.625400",
     "exception": false,
     "start_time": "2020-08-12T18:46:45.587248",
     "status": "completed"
    },
    "tags": []
   },
   "outputs": [
    {
     "data": {
      "text/plain": [
       "7.8958      34\n",
       "8.0500      32\n",
       "13.0000     31\n",
       "26.0000     26\n",
       "7.7500      26\n",
       "            ..\n",
       "22.3583      1\n",
       "9.5875       1\n",
       "15.1000      1\n",
       "10.1708      1\n",
       "108.9000     1\n",
       "Name: Fare, Length: 232, dtype: int64"
      ]
     },
     "execution_count": 27,
     "metadata": {},
     "output_type": "execute_result"
    }
   ],
   "source": [
    "x_train['Fare'].value_counts()"
   ]
  },
  {
   "cell_type": "code",
   "execution_count": 28,
   "metadata": {
    "execution": {
     "iopub.execute_input": "2020-08-12T18:46:45.743055Z",
     "iopub.status.busy": "2020-08-12T18:46:45.738166Z",
     "iopub.status.idle": "2020-08-12T18:46:46.026975Z",
     "shell.execute_reply": "2020-08-12T18:46:46.026068Z"
    },
    "papermill": {
     "duration": 0.379355,
     "end_time": "2020-08-12T18:46:46.027133",
     "exception": false,
     "start_time": "2020-08-12T18:46:45.647778",
     "status": "completed"
    },
    "tags": []
   },
   "outputs": [
    {
     "data": {
      "text/plain": [
       "<matplotlib.axes._subplots.AxesSubplot at 0x7fa36f2af350>"
      ]
     },
     "execution_count": 28,
     "metadata": {},
     "output_type": "execute_result"
    },
    {
     "data": {
      "image/png": "[encoded data removed]",
      "text/plain": [
       "<Figure size 1080x360 with 1 Axes>"
      ]
     },
     "metadata": {
      "needs_background": "light"
     },
     "output_type": "display_data"
    }
   ],
   "source": [
    "plt.figure(figsize=(15,5))\n",
    "sns.distplot(a=x_train['Fare'])"
   ]
  },
  {
   "cell_type": "code",
   "execution_count": 29,
   "metadata": {
    "execution": {
     "iopub.execute_input": "2020-08-12T18:46:46.085315Z",
     "iopub.status.busy": "2020-08-12T18:46:46.084322Z",
     "iopub.status.idle": "2020-08-12T18:46:46.088087Z",
     "shell.execute_reply": "2020-08-12T18:46:46.087296Z"
    },
    "papermill": {
     "duration": 0.038348,
     "end_time": "2020-08-12T18:46:46.088223",
     "exception": false,
     "start_time": "2020-08-12T18:46:46.049875",
     "status": "completed"
    },
    "tags": []
   },
   "outputs": [],
   "source": [
    "# there are 230 unique values out of 712\n",
    "# since many of them are close in values, we can approximates values into groups\n",
    "X_train['Fare'] = (x_train['Fare']/10).round()*10\n",
    "\n",
    "X_valid['Fare'] = x_valid['Fare']\n",
    "X_test['Fare'] = test['Fare']\n",
    "X_test['Fare'].fillna(X_test['Fare'].mean(), inplace=True)"
   ]
  },
  {
   "cell_type": "markdown",
   "execution_count": null,
   "metadata": {
    "papermill": {
     "duration": 0.022503,
     "end_time": "2020-08-12T18:46:46.133257",
     "exception": false,
     "start_time": "2020-08-12T18:46:46.110754",
     "status": "completed"
    },
    "tags": []
   },
   "source": [
    "## Cabin"
   ]
  },
  {
   "cell_type": "code",
   "execution_count": 30,
   "metadata": {
    "execution": {
     "iopub.execute_input": "2020-08-12T18:46:46.188128Z",
     "iopub.status.busy": "2020-08-12T18:46:46.187152Z",
     "iopub.status.idle": "2020-08-12T18:46:46.192254Z",
     "shell.execute_reply": "2020-08-12T18:46:46.191555Z"
    },
    "papermill": {
     "duration": 0.035981,
     "end_time": "2020-08-12T18:46:46.192410",
     "exception": false,
     "start_time": "2020-08-12T18:46:46.156429",
     "status": "completed"
    },
    "tags": []
   },
   "outputs": [
    {
     "data": {
      "text/plain": [
       "552"
      ]
     },
     "execution_count": 30,
     "metadata": {},
     "output_type": "execute_result"
    }
   ],
   "source": [
    "x_train['Cabin'].isnull().sum()"
   ]
  },
  {
   "cell_type": "code",
   "execution_count": 31,
   "metadata": {
    "execution": {
     "iopub.execute_input": "2020-08-12T18:46:46.250372Z",
     "iopub.status.busy": "2020-08-12T18:46:46.249327Z",
     "iopub.status.idle": "2020-08-12T18:46:46.254891Z",
     "shell.execute_reply": "2020-08-12T18:46:46.254019Z"
    },
    "papermill": {
     "duration": 0.039516,
     "end_time": "2020-08-12T18:46:46.255055",
     "exception": false,
     "start_time": "2020-08-12T18:46:46.215539",
     "status": "completed"
    },
    "tags": []
   },
   "outputs": [
    {
     "data": {
      "text/plain": [
       "G6             3\n",
       "D              3\n",
       "E101           3\n",
       "F2             3\n",
       "C23 C25 C27    3\n",
       "              ..\n",
       "A36            1\n",
       "D36            1\n",
       "A16            1\n",
       "E67            1\n",
       "E63            1\n",
       "Name: Cabin, Length: 123, dtype: int64"
      ]
     },
     "execution_count": 31,
     "metadata": {},
     "output_type": "execute_result"
    }
   ],
   "source": [
    "x_train['Cabin'].value_counts()"
   ]
  },
  {
   "cell_type": "code",
   "execution_count": 32,
   "metadata": {
    "execution": {
     "iopub.execute_input": "2020-08-12T18:46:46.314331Z",
     "iopub.status.busy": "2020-08-12T18:46:46.313150Z",
     "iopub.status.idle": "2020-08-12T18:46:46.317014Z",
     "shell.execute_reply": "2020-08-12T18:46:46.316211Z"
    },
    "papermill": {
     "duration": 0.038985,
     "end_time": "2020-08-12T18:46:46.317161",
     "exception": false,
     "start_time": "2020-08-12T18:46:46.278176",
     "status": "completed"
    },
    "tags": []
   },
   "outputs": [],
   "source": [
    "# there are many missing values and unique values\n",
    "# we will an engineer feature that indicates if the passenger had a cabin or not\n",
    "# if given more information about a cabin (ex: location, meaning of number...), a better feature could be engineered\n",
    "\n",
    "# 0 for no cabin. 1 for cabin\n",
    "X_train['Cabin']=x_train['Cabin'].notnull().astype('int')\n",
    "X_valid['Cabin']=x_valid['Cabin'].notnull().astype('int')\n",
    "X_test['Cabin'] = test['Cabin'].notnull().astype('int')"
   ]
  },
  {
   "cell_type": "markdown",
   "execution_count": null,
   "metadata": {
    "papermill": {
     "duration": 0.023458,
     "end_time": "2020-08-12T18:46:46.364020",
     "exception": false,
     "start_time": "2020-08-12T18:46:46.340562",
     "status": "completed"
    },
    "tags": []
   },
   "source": [
    "## Embarked"
   ]
  },
  {
   "cell_type": "code",
   "execution_count": 33,
   "metadata": {
    "execution": {
     "iopub.execute_input": "2020-08-12T18:46:46.421992Z",
     "iopub.status.busy": "2020-08-12T18:46:46.420812Z",
     "iopub.status.idle": "2020-08-12T18:46:46.426937Z",
     "shell.execute_reply": "2020-08-12T18:46:46.426297Z"
    },
    "papermill": {
     "duration": 0.039161,
     "end_time": "2020-08-12T18:46:46.427099",
     "exception": false,
     "start_time": "2020-08-12T18:46:46.387938",
     "status": "completed"
    },
    "tags": []
   },
   "outputs": [
    {
     "data": {
      "text/plain": [
       "S    512\n",
       "C    138\n",
       "Q     61\n",
       "Name: Embarked, dtype: int64"
      ]
     },
     "execution_count": 33,
     "metadata": {},
     "output_type": "execute_result"
    }
   ],
   "source": [
    "x_train['Embarked'].value_counts()"
   ]
  },
  {
   "cell_type": "code",
   "execution_count": 34,
   "metadata": {
    "execution": {
     "iopub.execute_input": "2020-08-12T18:46:46.485408Z",
     "iopub.status.busy": "2020-08-12T18:46:46.484171Z",
     "iopub.status.idle": "2020-08-12T18:46:46.488052Z",
     "shell.execute_reply": "2020-08-12T18:46:46.487216Z"
    },
    "papermill": {
     "duration": 0.037361,
     "end_time": "2020-08-12T18:46:46.488201",
     "exception": false,
     "start_time": "2020-08-12T18:46:46.450840",
     "status": "completed"
    },
    "tags": []
   },
   "outputs": [],
   "source": [
    "categorical_data_train['Embarked'] = x_train['Embarked']\n",
    "categorical_data_valid['Embarked'] = x_valid['Embarked']\n",
    "categorical_data_test['Embarked'] = test['Embarked']"
   ]
  },
  {
   "cell_type": "markdown",
   "execution_count": null,
   "metadata": {
    "papermill": {
     "duration": 0.023614,
     "end_time": "2020-08-12T18:46:46.535491",
     "exception": false,
     "start_time": "2020-08-12T18:46:46.511877",
     "status": "completed"
    },
    "tags": []
   },
   "source": [
    "# ENCODING CATEGORICAL VARIABLES"
   ]
  },
  {
   "cell_type": "code",
   "execution_count": 35,
   "metadata": {
    "execution": {
     "iopub.execute_input": "2020-08-12T18:46:46.597806Z",
     "iopub.status.busy": "2020-08-12T18:46:46.596505Z",
     "iopub.status.idle": "2020-08-12T18:46:46.601443Z",
     "shell.execute_reply": "2020-08-12T18:46:46.601995Z"
    },
    "papermill": {
     "duration": 0.042559,
     "end_time": "2020-08-12T18:46:46.602172",
     "exception": false,
     "start_time": "2020-08-12T18:46:46.559613",
     "status": "completed"
    },
    "tags": []
   },
   "outputs": [
    {
     "data": {
      "text/html": [
       "<div>\n",
       "<style scoped>\n",
       "    .dataframe tbody tr th:only-of-type {\n",
       "        vertical-align: middle;\n",
       "    }\n",
       "\n",
       "    .dataframe tbody tr th {\n",
       "        vertical-align: top;\n",
       "    }\n",
       "\n",
       "    .dataframe thead th {\n",
       "        text-align: right;\n",
       "    }\n",
       "</style>\n",
       "<table border=\"1\" class=\"dataframe\">\n",
       "  <thead>\n",
       "    <tr style=\"text-align: right;\">\n",
       "      <th></th>\n",
       "      <th>Title</th>\n",
       "      <th>Sex</th>\n",
       "      <th>Embarked</th>\n",
       "    </tr>\n",
       "  </thead>\n",
       "  <tbody>\n",
       "    <tr>\n",
       "      <th>364</th>\n",
       "      <td>Mr</td>\n",
       "      <td>male</td>\n",
       "      <td>Q</td>\n",
       "    </tr>\n",
       "    <tr>\n",
       "      <th>256</th>\n",
       "      <td>Mrs</td>\n",
       "      <td>female</td>\n",
       "      <td>C</td>\n",
       "    </tr>\n",
       "    <tr>\n",
       "      <th>477</th>\n",
       "      <td>Mr</td>\n",
       "      <td>male</td>\n",
       "      <td>S</td>\n",
       "    </tr>\n",
       "    <tr>\n",
       "      <th>272</th>\n",
       "      <td>Mrs</td>\n",
       "      <td>female</td>\n",
       "      <td>S</td>\n",
       "    </tr>\n",
       "    <tr>\n",
       "      <th>554</th>\n",
       "      <td>Miss</td>\n",
       "      <td>female</td>\n",
       "      <td>S</td>\n",
       "    </tr>\n",
       "    <tr>\n",
       "      <th>768</th>\n",
       "      <td>Mr</td>\n",
       "      <td>male</td>\n",
       "      <td>Q</td>\n",
       "    </tr>\n",
       "    <tr>\n",
       "      <th>232</th>\n",
       "      <td>Mr</td>\n",
       "      <td>male</td>\n",
       "      <td>S</td>\n",
       "    </tr>\n",
       "    <tr>\n",
       "      <th>536</th>\n",
       "      <td>Major</td>\n",
       "      <td>male</td>\n",
       "      <td>S</td>\n",
       "    </tr>\n",
       "    <tr>\n",
       "      <th>163</th>\n",
       "      <td>Mr</td>\n",
       "      <td>male</td>\n",
       "      <td>S</td>\n",
       "    </tr>\n",
       "    <tr>\n",
       "      <th>659</th>\n",
       "      <td>Mr</td>\n",
       "      <td>male</td>\n",
       "      <td>C</td>\n",
       "    </tr>\n",
       "  </tbody>\n",
       "</table>\n",
       "</div>"
      ],
      "text/plain": [
       "     Title     Sex Embarked\n",
       "364     Mr    male        Q\n",
       "256    Mrs  female        C\n",
       "477     Mr    male        S\n",
       "272    Mrs  female        S\n",
       "554   Miss  female        S\n",
       "768     Mr    male        Q\n",
       "232     Mr    male        S\n",
       "536  Major    male        S\n",
       "163     Mr    male        S\n",
       "659     Mr    male        C"
      ]
     },
     "execution_count": 35,
     "metadata": {},
     "output_type": "execute_result"
    }
   ],
   "source": [
    "categorical_data_train.head(10)"
   ]
  },
  {
   "cell_type": "code",
   "execution_count": 36,
   "metadata": {
    "execution": {
     "iopub.execute_input": "2020-08-12T18:46:46.669422Z",
     "iopub.status.busy": "2020-08-12T18:46:46.663880Z",
     "iopub.status.idle": "2020-08-12T18:46:46.713173Z",
     "shell.execute_reply": "2020-08-12T18:46:46.712300Z"
    },
    "papermill": {
     "duration": 0.087612,
     "end_time": "2020-08-12T18:46:46.713329",
     "exception": false,
     "start_time": "2020-08-12T18:46:46.625717",
     "status": "completed"
    },
    "tags": []
   },
   "outputs": [
    {
     "data": {
      "text/html": [
       "<div>\n",
       "<style scoped>\n",
       "    .dataframe tbody tr th:only-of-type {\n",
       "        vertical-align: middle;\n",
       "    }\n",
       "\n",
       "    .dataframe tbody tr th {\n",
       "        vertical-align: top;\n",
       "    }\n",
       "\n",
       "    .dataframe thead th {\n",
       "        text-align: right;\n",
       "    }\n",
       "</style>\n",
       "<table border=\"1\" class=\"dataframe\">\n",
       "  <thead>\n",
       "    <tr style=\"text-align: right;\">\n",
       "      <th></th>\n",
       "      <th>Pclass</th>\n",
       "      <th>Age</th>\n",
       "      <th>SibSp</th>\n",
       "      <th>Parch</th>\n",
       "      <th>Fare</th>\n",
       "      <th>Cabin</th>\n",
       "      <th>0</th>\n",
       "      <th>1</th>\n",
       "      <th>2</th>\n",
       "      <th>3</th>\n",
       "      <th>...</th>\n",
       "      <th>10</th>\n",
       "      <th>11</th>\n",
       "      <th>12</th>\n",
       "      <th>13</th>\n",
       "      <th>14</th>\n",
       "      <th>15</th>\n",
       "      <th>16</th>\n",
       "      <th>17</th>\n",
       "      <th>18</th>\n",
       "      <th>19</th>\n",
       "    </tr>\n",
       "  </thead>\n",
       "  <tbody>\n",
       "    <tr>\n",
       "      <th>364</th>\n",
       "      <td>3</td>\n",
       "      <td>29.45254</td>\n",
       "      <td>1</td>\n",
       "      <td>0</td>\n",
       "      <td>20.0</td>\n",
       "      <td>0</td>\n",
       "      <td>0.0</td>\n",
       "      <td>0.0</td>\n",
       "      <td>0.0</td>\n",
       "      <td>0.0</td>\n",
       "      <td>...</td>\n",
       "      <td>0.0</td>\n",
       "      <td>0.0</td>\n",
       "      <td>0.0</td>\n",
       "      <td>0.0</td>\n",
       "      <td>0.0</td>\n",
       "      <td>0.0</td>\n",
       "      <td>1.0</td>\n",
       "      <td>0.0</td>\n",
       "      <td>1.0</td>\n",
       "      <td>0.0</td>\n",
       "    </tr>\n",
       "    <tr>\n",
       "      <th>256</th>\n",
       "      <td>1</td>\n",
       "      <td>29.45254</td>\n",
       "      <td>0</td>\n",
       "      <td>0</td>\n",
       "      <td>80.0</td>\n",
       "      <td>0</td>\n",
       "      <td>0.0</td>\n",
       "      <td>0.0</td>\n",
       "      <td>0.0</td>\n",
       "      <td>0.0</td>\n",
       "      <td>...</td>\n",
       "      <td>1.0</td>\n",
       "      <td>0.0</td>\n",
       "      <td>0.0</td>\n",
       "      <td>0.0</td>\n",
       "      <td>0.0</td>\n",
       "      <td>1.0</td>\n",
       "      <td>0.0</td>\n",
       "      <td>1.0</td>\n",
       "      <td>0.0</td>\n",
       "      <td>0.0</td>\n",
       "    </tr>\n",
       "    <tr>\n",
       "      <th>477</th>\n",
       "      <td>3</td>\n",
       "      <td>29.00000</td>\n",
       "      <td>1</td>\n",
       "      <td>0</td>\n",
       "      <td>10.0</td>\n",
       "      <td>0</td>\n",
       "      <td>0.0</td>\n",
       "      <td>0.0</td>\n",
       "      <td>0.0</td>\n",
       "      <td>0.0</td>\n",
       "      <td>...</td>\n",
       "      <td>0.0</td>\n",
       "      <td>0.0</td>\n",
       "      <td>0.0</td>\n",
       "      <td>0.0</td>\n",
       "      <td>0.0</td>\n",
       "      <td>0.0</td>\n",
       "      <td>1.0</td>\n",
       "      <td>0.0</td>\n",
       "      <td>0.0</td>\n",
       "      <td>1.0</td>\n",
       "    </tr>\n",
       "    <tr>\n",
       "      <th>272</th>\n",
       "      <td>2</td>\n",
       "      <td>41.00000</td>\n",
       "      <td>0</td>\n",
       "      <td>1</td>\n",
       "      <td>20.0</td>\n",
       "      <td>0</td>\n",
       "      <td>0.0</td>\n",
       "      <td>0.0</td>\n",
       "      <td>0.0</td>\n",
       "      <td>0.0</td>\n",
       "      <td>...</td>\n",
       "      <td>1.0</td>\n",
       "      <td>0.0</td>\n",
       "      <td>0.0</td>\n",
       "      <td>0.0</td>\n",
       "      <td>0.0</td>\n",
       "      <td>1.0</td>\n",
       "      <td>0.0</td>\n",
       "      <td>0.0</td>\n",
       "      <td>0.0</td>\n",
       "      <td>1.0</td>\n",
       "    </tr>\n",
       "    <tr>\n",
       "      <th>554</th>\n",
       "      <td>3</td>\n",
       "      <td>22.00000</td>\n",
       "      <td>0</td>\n",
       "      <td>0</td>\n",
       "      <td>10.0</td>\n",
       "      <td>0</td>\n",
       "      <td>0.0</td>\n",
       "      <td>0.0</td>\n",
       "      <td>0.0</td>\n",
       "      <td>0.0</td>\n",
       "      <td>...</td>\n",
       "      <td>0.0</td>\n",
       "      <td>0.0</td>\n",
       "      <td>0.0</td>\n",
       "      <td>0.0</td>\n",
       "      <td>0.0</td>\n",
       "      <td>1.0</td>\n",
       "      <td>0.0</td>\n",
       "      <td>0.0</td>\n",
       "      <td>0.0</td>\n",
       "      <td>1.0</td>\n",
       "    </tr>\n",
       "  </tbody>\n",
       "</table>\n",
       "<p>5 rows × 26 columns</p>\n",
       "</div>"
      ],
      "text/plain": [
       "     Pclass       Age  SibSp  Parch  Fare  Cabin    0    1    2    3  ...  \\\n",
       "364       3  29.45254      1      0  20.0      0  0.0  0.0  0.0  0.0  ...   \n",
       "256       1  29.45254      0      0  80.0      0  0.0  0.0  0.0  0.0  ...   \n",
       "477       3  29.00000      1      0  10.0      0  0.0  0.0  0.0  0.0  ...   \n",
       "272       2  41.00000      0      1  20.0      0  0.0  0.0  0.0  0.0  ...   \n",
       "554       3  22.00000      0      0  10.0      0  0.0  0.0  0.0  0.0  ...   \n",
       "\n",
       "      10   11   12   13   14   15   16   17   18   19  \n",
       "364  0.0  0.0  0.0  0.0  0.0  0.0  1.0  0.0  1.0  0.0  \n",
       "256  1.0  0.0  0.0  0.0  0.0  1.0  0.0  1.0  0.0  0.0  \n",
       "477  0.0  0.0  0.0  0.0  0.0  0.0  1.0  0.0  0.0  1.0  \n",
       "272  1.0  0.0  0.0  0.0  0.0  1.0  0.0  0.0  0.0  1.0  \n",
       "554  0.0  0.0  0.0  0.0  0.0  1.0  0.0  0.0  0.0  1.0  \n",
       "\n",
       "[5 rows x 26 columns]"
      ]
     },
     "execution_count": 36,
     "metadata": {},
     "output_type": "execute_result"
    }
   ],
   "source": [
    "# Since there aren't too many categorical features,none have a lot of unique values and have nominal values\n",
    "# we will use One-hot encode \n",
    "OH_encoder = OneHotEncoder(handle_unknown='ignore',sparse=False)\n",
    "\n",
    "OH_data_train = pd.DataFrame(OH_encoder.fit_transform(categorical_data_train))\n",
    "OH_data_valid = pd.DataFrame(OH_encoder.transform(categorical_data_valid))\n",
    "OH_data_test = pd.DataFrame(OH_encoder.transform(categorical_data_test))\n",
    "\n",
    "OH_data_train.index = categorical_data_train.index\n",
    "OH_data_valid.index = categorical_data_valid.index\n",
    "OH_data_test.index = categorical_data_test.index\n",
    "\n",
    "\n",
    "# we add the one hot encoded categorical data to the numerical data\n",
    "X_train = pd.concat([X_train,OH_data_train], axis=1)\n",
    "X_valid = pd.concat([X_valid,OH_data_valid], axis=1)\n",
    "X_test = pd.concat([X_test,OH_data_test], axis=1)\n",
    "X_train.head()"
   ]
  },
  {
   "cell_type": "markdown",
   "execution_count": null,
   "metadata": {
    "papermill": {
     "duration": 0.024286,
     "end_time": "2020-08-12T18:46:46.762271",
     "exception": false,
     "start_time": "2020-08-12T18:46:46.737985",
     "status": "completed"
    },
    "tags": []
   },
   "source": [
    "# MACHINE LEARNING"
   ]
  },
  {
   "cell_type": "code",
   "execution_count": 37,
   "metadata": {
    "execution": {
     "iopub.execute_input": "2020-08-12T18:46:46.819438Z",
     "iopub.status.busy": "2020-08-12T18:46:46.818304Z",
     "iopub.status.idle": "2020-08-12T18:46:46.822028Z",
     "shell.execute_reply": "2020-08-12T18:46:46.821301Z"
    },
    "papermill": {
     "duration": 0.034608,
     "end_time": "2020-08-12T18:46:46.822169",
     "exception": false,
     "start_time": "2020-08-12T18:46:46.787561",
     "status": "completed"
    },
    "tags": []
   },
   "outputs": [],
   "source": [
    "y_valid = pd.DataFrame(y_valid)"
   ]
  },
  {
   "cell_type": "code",
   "execution_count": 38,
   "metadata": {
    "execution": {
     "iopub.execute_input": "2020-08-12T18:46:46.882237Z",
     "iopub.status.busy": "2020-08-12T18:46:46.881201Z",
     "iopub.status.idle": "2020-08-12T18:46:46.884667Z",
     "shell.execute_reply": "2020-08-12T18:46:46.883864Z"
    },
    "papermill": {
     "duration": 0.037871,
     "end_time": "2020-08-12T18:46:46.884802",
     "exception": false,
     "start_time": "2020-08-12T18:46:46.846931",
     "status": "completed"
    },
    "tags": []
   },
   "outputs": [],
   "source": [
    "def percentage_error(predicted,actual):\n",
    "    num_correct = 0\n",
    "    num_total = len(predicted)\n",
    "    for i in range(num_total):\n",
    "        if predicted.iloc[i][0] == actual.iloc[i][0]:\n",
    "            num_correct += 1\n",
    "    return num_correct/num_total"
   ]
  },
  {
   "cell_type": "code",
   "execution_count": 39,
   "metadata": {
    "execution": {
     "iopub.execute_input": "2020-08-12T18:46:46.944559Z",
     "iopub.status.busy": "2020-08-12T18:46:46.943300Z",
     "iopub.status.idle": "2020-08-12T18:46:47.069230Z",
     "shell.execute_reply": "2020-08-12T18:46:47.069962Z"
    },
    "papermill": {
     "duration": 0.160983,
     "end_time": "2020-08-12T18:46:47.070167",
     "exception": false,
     "start_time": "2020-08-12T18:46:46.909184",
     "status": "completed"
    },
    "tags": []
   },
   "outputs": [
    {
     "name": "stdout",
     "output_type": "stream",
     "text": [
      "the percentage error on the valid set is 0.758427\n"
     ]
    }
   ],
   "source": [
    "my_model = XGBRegressor(n_estimators = 1000, learning_rate=0.25)\n",
    "my_model.fit(X_train,y_train,early_stopping_rounds=5,eval_set=[(X_valid,y_valid)],verbose=False)\n",
    "predictions_valid = my_model.predict(X_valid).round()\n",
    "predictions_valid = pd.DataFrame(predictions_valid.astype(int), columns=['Survived'])\n",
    "error = percentage_error(predictions_valid,y_valid)\n",
    "print(\"the percentage error on the valid set is %f\" %(error))"
   ]
  },
  {
   "cell_type": "code",
   "execution_count": 40,
   "metadata": {
    "execution": {
     "iopub.execute_input": "2020-08-12T18:46:47.144339Z",
     "iopub.status.busy": "2020-08-12T18:46:47.143158Z",
     "iopub.status.idle": "2020-08-12T18:46:47.508227Z",
     "shell.execute_reply": "2020-08-12T18:46:47.507477Z"
    },
    "papermill": {
     "duration": 0.407878,
     "end_time": "2020-08-12T18:46:47.508367",
     "exception": false,
     "start_time": "2020-08-12T18:46:47.100489",
     "status": "completed"
    },
    "tags": []
   },
   "outputs": [
    {
     "name": "stdout",
     "output_type": "stream",
     "text": [
      "the percentage error on the valid set is 0.657303\n"
     ]
    }
   ],
   "source": [
    "my_model_2 = RandomForestRegressor(n_estimators=100, random_state = 0)\n",
    "my_model_2.fit(X_train,y_train)\n",
    "predictions_valid_2 = my_model_2.predict(X_valid)\n",
    "predictions_valid_2 = pd.DataFrame(predictions_valid_2.astype(int), columns=['Survived'])\n",
    "error_2 = percentage_error(predictions_valid_2,y_valid)\n",
    "print(\"the percentage error on the valid set is %f\" %(error_2))"
   ]
  },
  {
   "cell_type": "code",
   "execution_count": 41,
   "metadata": {
    "execution": {
     "iopub.execute_input": "2020-08-12T18:46:47.569781Z",
     "iopub.status.busy": "2020-08-12T18:46:47.568844Z",
     "iopub.status.idle": "2020-08-12T18:46:47.635709Z",
     "shell.execute_reply": "2020-08-12T18:46:47.634765Z"
    },
    "papermill": {
     "duration": 0.102769,
     "end_time": "2020-08-12T18:46:47.635904",
     "exception": false,
     "start_time": "2020-08-12T18:46:47.533135",
     "status": "completed"
    },
    "tags": []
   },
   "outputs": [
    {
     "name": "stdout",
     "output_type": "stream",
     "text": [
      "the percentage error on the valid set is 0.741573\n"
     ]
    }
   ],
   "source": [
    "my_model_3 = DecisionTreeRegressor(max_leaf_nodes=150, random_state = 0)\n",
    "my_model_3.fit(X_train,y_train)\n",
    "predictions_valid_3 = my_model_3.predict(X_valid)\n",
    "predictions_valid_3 = pd.DataFrame(predictions_valid_3.astype(int), columns=['Survived'])\n",
    "error_3 = percentage_error(predictions_valid_3,y_valid)\n",
    "print(\"the percentage error on the valid set is %f\" %(error_3))"
   ]
  },
  {
   "cell_type": "code",
   "execution_count": 42,
   "metadata": {
    "execution": {
     "iopub.execute_input": "2020-08-12T18:46:47.693320Z",
     "iopub.status.busy": "2020-08-12T18:46:47.692353Z",
     "iopub.status.idle": "2020-08-12T18:46:47.696242Z",
     "shell.execute_reply": "2020-08-12T18:46:47.695523Z"
    },
    "papermill": {
     "duration": 0.033728,
     "end_time": "2020-08-12T18:46:47.696385",
     "exception": false,
     "start_time": "2020-08-12T18:46:47.662657",
     "status": "completed"
    },
    "tags": []
   },
   "outputs": [],
   "source": [
    "# Since my_model performed the best on the valid set, we will use it to make predictions on the test data"
   ]
  },
  {
   "cell_type": "markdown",
   "execution_count": null,
   "metadata": {
    "papermill": {
     "duration": 0.024833,
     "end_time": "2020-08-12T18:46:47.746436",
     "exception": false,
     "start_time": "2020-08-12T18:46:47.721603",
     "status": "completed"
    },
    "tags": []
   },
   "source": [
    "# SUBMISSION"
   ]
  },
  {
   "cell_type": "code",
   "execution_count": 43,
   "metadata": {
    "execution": {
     "iopub.execute_input": "2020-08-12T18:46:47.812365Z",
     "iopub.status.busy": "2020-08-12T18:46:47.804835Z",
     "iopub.status.idle": "2020-08-12T18:46:47.820152Z",
     "shell.execute_reply": "2020-08-12T18:46:47.820890Z"
    },
    "papermill": {
     "duration": 0.049565,
     "end_time": "2020-08-12T18:46:47.821158",
     "exception": false,
     "start_time": "2020-08-12T18:46:47.771593",
     "status": "completed"
    },
    "tags": []
   },
   "outputs": [
    {
     "data": {
      "text/html": [
       "<div>\n",
       "<style scoped>\n",
       "    .dataframe tbody tr th:only-of-type {\n",
       "        vertical-align: middle;\n",
       "    }\n",
       "\n",
       "    .dataframe tbody tr th {\n",
       "        vertical-align: top;\n",
       "    }\n",
       "\n",
       "    .dataframe thead th {\n",
       "        text-align: right;\n",
       "    }\n",
       "</style>\n",
       "<table border=\"1\" class=\"dataframe\">\n",
       "  <thead>\n",
       "    <tr style=\"text-align: right;\">\n",
       "      <th></th>\n",
       "      <th>Survived</th>\n",
       "    </tr>\n",
       "  </thead>\n",
       "  <tbody>\n",
       "    <tr>\n",
       "      <th>0</th>\n",
       "      <td>0</td>\n",
       "    </tr>\n",
       "    <tr>\n",
       "      <th>1</th>\n",
       "      <td>0</td>\n",
       "    </tr>\n",
       "    <tr>\n",
       "      <th>2</th>\n",
       "      <td>0</td>\n",
       "    </tr>\n",
       "    <tr>\n",
       "      <th>3</th>\n",
       "      <td>0</td>\n",
       "    </tr>\n",
       "    <tr>\n",
       "      <th>4</th>\n",
       "      <td>0</td>\n",
       "    </tr>\n",
       "    <tr>\n",
       "      <th>5</th>\n",
       "      <td>0</td>\n",
       "    </tr>\n",
       "    <tr>\n",
       "      <th>6</th>\n",
       "      <td>1</td>\n",
       "    </tr>\n",
       "    <tr>\n",
       "      <th>7</th>\n",
       "      <td>0</td>\n",
       "    </tr>\n",
       "    <tr>\n",
       "      <th>8</th>\n",
       "      <td>1</td>\n",
       "    </tr>\n",
       "    <tr>\n",
       "      <th>9</th>\n",
       "      <td>0</td>\n",
       "    </tr>\n",
       "  </tbody>\n",
       "</table>\n",
       "</div>"
      ],
      "text/plain": [
       "   Survived\n",
       "0         0\n",
       "1         0\n",
       "2         0\n",
       "3         0\n",
       "4         0\n",
       "5         0\n",
       "6         1\n",
       "7         0\n",
       "8         1\n",
       "9         0"
      ]
     },
     "execution_count": 43,
     "metadata": {},
     "output_type": "execute_result"
    }
   ],
   "source": [
    "predictions_test = my_model.predict(X_test).round()\n",
    "predictions_test = pd.DataFrame(predictions_test.astype(int), columns=['Survived'])\n",
    "predictions_test.head(10)"
   ]
  },
  {
   "cell_type": "code",
   "execution_count": 44,
   "metadata": {
    "execution": {
     "iopub.execute_input": "2020-08-12T18:46:47.897006Z",
     "iopub.status.busy": "2020-08-12T18:46:47.896005Z",
     "iopub.status.idle": "2020-08-12T18:46:47.910317Z",
     "shell.execute_reply": "2020-08-12T18:46:47.911182Z"
    },
    "papermill": {
     "duration": 0.056902,
     "end_time": "2020-08-12T18:46:47.911399",
     "exception": false,
     "start_time": "2020-08-12T18:46:47.854497",
     "status": "completed"
    },
    "tags": []
   },
   "outputs": [
    {
     "data": {
      "text/html": [
       "<div>\n",
       "<style scoped>\n",
       "    .dataframe tbody tr th:only-of-type {\n",
       "        vertical-align: middle;\n",
       "    }\n",
       "\n",
       "    .dataframe tbody tr th {\n",
       "        vertical-align: top;\n",
       "    }\n",
       "\n",
       "    .dataframe thead th {\n",
       "        text-align: right;\n",
       "    }\n",
       "</style>\n",
       "<table border=\"1\" class=\"dataframe\">\n",
       "  <thead>\n",
       "    <tr style=\"text-align: right;\">\n",
       "      <th></th>\n",
       "      <th>PassengerId</th>\n",
       "      <th>Survived</th>\n",
       "    </tr>\n",
       "  </thead>\n",
       "  <tbody>\n",
       "    <tr>\n",
       "      <th>0</th>\n",
       "      <td>892</td>\n",
       "      <td>0</td>\n",
       "    </tr>\n",
       "    <tr>\n",
       "      <th>1</th>\n",
       "      <td>893</td>\n",
       "      <td>1</td>\n",
       "    </tr>\n",
       "    <tr>\n",
       "      <th>2</th>\n",
       "      <td>894</td>\n",
       "      <td>0</td>\n",
       "    </tr>\n",
       "    <tr>\n",
       "      <th>3</th>\n",
       "      <td>895</td>\n",
       "      <td>0</td>\n",
       "    </tr>\n",
       "    <tr>\n",
       "      <th>4</th>\n",
       "      <td>896</td>\n",
       "      <td>1</td>\n",
       "    </tr>\n",
       "    <tr>\n",
       "      <th>5</th>\n",
       "      <td>897</td>\n",
       "      <td>0</td>\n",
       "    </tr>\n",
       "    <tr>\n",
       "      <th>6</th>\n",
       "      <td>898</td>\n",
       "      <td>1</td>\n",
       "    </tr>\n",
       "    <tr>\n",
       "      <th>7</th>\n",
       "      <td>899</td>\n",
       "      <td>0</td>\n",
       "    </tr>\n",
       "    <tr>\n",
       "      <th>8</th>\n",
       "      <td>900</td>\n",
       "      <td>1</td>\n",
       "    </tr>\n",
       "    <tr>\n",
       "      <th>9</th>\n",
       "      <td>901</td>\n",
       "      <td>0</td>\n",
       "    </tr>\n",
       "  </tbody>\n",
       "</table>\n",
       "</div>"
      ],
      "text/plain": [
       "   PassengerId  Survived\n",
       "0          892         0\n",
       "1          893         1\n",
       "2          894         0\n",
       "3          895         0\n",
       "4          896         1\n",
       "5          897         0\n",
       "6          898         1\n",
       "7          899         0\n",
       "8          900         1\n",
       "9          901         0"
      ]
     },
     "execution_count": 44,
     "metadata": {},
     "output_type": "execute_result"
    }
   ],
   "source": [
    "# we want our submission to look like this \n",
    "example = pd.read_csv('/kaggle/input/titanic/gender_submission.csv')\n",
    "example.head(10)"
   ]
  },
  {
   "cell_type": "code",
   "execution_count": 45,
   "metadata": {
    "execution": {
     "iopub.execute_input": "2020-08-12T18:46:47.985147Z",
     "iopub.status.busy": "2020-08-12T18:46:47.984235Z",
     "iopub.status.idle": "2020-08-12T18:46:47.995381Z",
     "shell.execute_reply": "2020-08-12T18:46:47.996229Z"
    },
    "papermill": {
     "duration": 0.052898,
     "end_time": "2020-08-12T18:46:47.996431",
     "exception": false,
     "start_time": "2020-08-12T18:46:47.943533",
     "status": "completed"
    },
    "tags": []
   },
   "outputs": [
    {
     "data": {
      "text/html": [
       "<div>\n",
       "<style scoped>\n",
       "    .dataframe tbody tr th:only-of-type {\n",
       "        vertical-align: middle;\n",
       "    }\n",
       "\n",
       "    .dataframe tbody tr th {\n",
       "        vertical-align: top;\n",
       "    }\n",
       "\n",
       "    .dataframe thead th {\n",
       "        text-align: right;\n",
       "    }\n",
       "</style>\n",
       "<table border=\"1\" class=\"dataframe\">\n",
       "  <thead>\n",
       "    <tr style=\"text-align: right;\">\n",
       "      <th></th>\n",
       "      <th>PassengerId</th>\n",
       "      <th>Survived</th>\n",
       "    </tr>\n",
       "  </thead>\n",
       "  <tbody>\n",
       "    <tr>\n",
       "      <th>0</th>\n",
       "      <td>892</td>\n",
       "      <td>0</td>\n",
       "    </tr>\n",
       "    <tr>\n",
       "      <th>1</th>\n",
       "      <td>893</td>\n",
       "      <td>0</td>\n",
       "    </tr>\n",
       "    <tr>\n",
       "      <th>2</th>\n",
       "      <td>894</td>\n",
       "      <td>0</td>\n",
       "    </tr>\n",
       "    <tr>\n",
       "      <th>3</th>\n",
       "      <td>895</td>\n",
       "      <td>0</td>\n",
       "    </tr>\n",
       "    <tr>\n",
       "      <th>4</th>\n",
       "      <td>896</td>\n",
       "      <td>0</td>\n",
       "    </tr>\n",
       "    <tr>\n",
       "      <th>5</th>\n",
       "      <td>897</td>\n",
       "      <td>0</td>\n",
       "    </tr>\n",
       "    <tr>\n",
       "      <th>6</th>\n",
       "      <td>898</td>\n",
       "      <td>1</td>\n",
       "    </tr>\n",
       "    <tr>\n",
       "      <th>7</th>\n",
       "      <td>899</td>\n",
       "      <td>0</td>\n",
       "    </tr>\n",
       "    <tr>\n",
       "      <th>8</th>\n",
       "      <td>900</td>\n",
       "      <td>1</td>\n",
       "    </tr>\n",
       "    <tr>\n",
       "      <th>9</th>\n",
       "      <td>901</td>\n",
       "      <td>0</td>\n",
       "    </tr>\n",
       "  </tbody>\n",
       "</table>\n",
       "</div>"
      ],
      "text/plain": [
       "   PassengerId  Survived\n",
       "0          892         0\n",
       "1          893         0\n",
       "2          894         0\n",
       "3          895         0\n",
       "4          896         0\n",
       "5          897         0\n",
       "6          898         1\n",
       "7          899         0\n",
       "8          900         1\n",
       "9          901         0"
      ]
     },
     "execution_count": 45,
     "metadata": {},
     "output_type": "execute_result"
    }
   ],
   "source": [
    "predictions_test['PassengerId'] = test['PassengerId']\n",
    "columns_titles = [\"PassengerId\",\"Survived\"]\n",
    "predictions_test=predictions_test.reindex(columns=columns_titles)\n",
    "predictions_test.head(10)"
   ]
  },
  {
   "cell_type": "code",
   "execution_count": 46,
   "metadata": {
    "execution": {
     "iopub.execute_input": "2020-08-12T18:46:48.056658Z",
     "iopub.status.busy": "2020-08-12T18:46:48.055822Z",
     "iopub.status.idle": "2020-08-12T18:46:48.125393Z",
     "shell.execute_reply": "2020-08-12T18:46:48.124467Z"
    },
    "papermill": {
     "duration": 0.100761,
     "end_time": "2020-08-12T18:46:48.125552",
     "exception": false,
     "start_time": "2020-08-12T18:46:48.024791",
     "status": "completed"
    },
    "tags": []
   },
   "outputs": [],
   "source": [
    "predictions_test.to_csv('submission.csv',index=False)"
   ]
  }
 ],
 "metadata": {
  "kernelspec": {
   "display_name": "Python 3",
   "language": "python",
   "name": "python3"
  },
  "language_info": {
   "codemirror_mode": {
    "name": "ipython",
    "version": 3
   },
   "file_extension": ".py",
   "mimetype": "text/x-python",
   "name": "python",
   "nbconvert_exporter": "python",
   "pygments_lexer": "ipython3",
   "version": "3.7.6"
  },
  "papermill": {
   "duration": 16.189416,
   "end_time": "2020-08-12T18:46:49.179738",
   "environment_variables": {},
   "exception": null,
   "input_path": "__notebook__.ipynb",
   "output_path": "__notebook__.ipynb",
   "parameters": {},
   "start_time": "2020-08-12T18:46:32.990322",
   "version": "2.1.0"
  }
 },
 "nbformat": 4,
 "nbformat_minor": 4
}
